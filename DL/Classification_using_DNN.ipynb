{
 "cells": [
  {
   "cell_type": "code",
   "execution_count": 3,
   "metadata": {
    "id": "vZPcdJ1a7qyQ"
   },
   "outputs": [],
   "source": [
    "import pandas as pd\n",
    "import matplotlib.pyplot as plt\n",
    "\n",
    "from sklearn import model_selection\n",
    "from sklearn.preprocessing import StandardScaler\n",
    "from sklearn.neural_network import MLPClassifier\n",
    "\n",
    "from sklearn.metrics import classification_report\n",
    "from sklearn.metrics import confusion_matrix\n",
    "from sklearn.metrics import accuracy_score\n",
    "\n",
    "from sklearn import preprocessing\n",
    "from yellowbrick.classifier import ConfusionMatrix"
   ]
  },
  {
   "cell_type": "code",
   "execution_count": 4,
   "metadata": {
    "id": "z7mrJ45E7xmS"
   },
   "outputs": [],
   "source": [
    "df = pd.read_csv(\"letter-recognition.data\", sep = \",\")"
   ]
  },
  {
   "cell_type": "code",
   "execution_count": 5,
   "metadata": {
    "colab": {
     "base_uri": "https://localhost:8080/",
     "height": 363
    },
    "id": "Gh632_Sg_5As",
    "outputId": "707ddc89-1715-477a-c42f-1501f152fabf"
   },
   "outputs": [
    {
     "data": {
      "text/html": [
       "<div>\n",
       "<style scoped>\n",
       "    .dataframe tbody tr th:only-of-type {\n",
       "        vertical-align: middle;\n",
       "    }\n",
       "\n",
       "    .dataframe tbody tr th {\n",
       "        vertical-align: top;\n",
       "    }\n",
       "\n",
       "    .dataframe thead th {\n",
       "        text-align: right;\n",
       "    }\n",
       "</style>\n",
       "<table border=\"1\" class=\"dataframe\">\n",
       "  <thead>\n",
       "    <tr style=\"text-align: right;\">\n",
       "      <th></th>\n",
       "      <th>T</th>\n",
       "      <th>2</th>\n",
       "      <th>8</th>\n",
       "      <th>3</th>\n",
       "      <th>5</th>\n",
       "      <th>1</th>\n",
       "      <th>8.1</th>\n",
       "      <th>13</th>\n",
       "      <th>0</th>\n",
       "      <th>6</th>\n",
       "      <th>6.1</th>\n",
       "      <th>10</th>\n",
       "      <th>8.2</th>\n",
       "      <th>0.1</th>\n",
       "      <th>8.3</th>\n",
       "      <th>0.2</th>\n",
       "      <th>8.4</th>\n",
       "    </tr>\n",
       "  </thead>\n",
       "  <tbody>\n",
       "    <tr>\n",
       "      <th>0</th>\n",
       "      <td>I</td>\n",
       "      <td>5</td>\n",
       "      <td>12</td>\n",
       "      <td>3</td>\n",
       "      <td>7</td>\n",
       "      <td>2</td>\n",
       "      <td>10</td>\n",
       "      <td>5</td>\n",
       "      <td>5</td>\n",
       "      <td>4</td>\n",
       "      <td>13</td>\n",
       "      <td>3</td>\n",
       "      <td>9</td>\n",
       "      <td>2</td>\n",
       "      <td>8</td>\n",
       "      <td>4</td>\n",
       "      <td>10</td>\n",
       "    </tr>\n",
       "    <tr>\n",
       "      <th>1</th>\n",
       "      <td>D</td>\n",
       "      <td>4</td>\n",
       "      <td>11</td>\n",
       "      <td>6</td>\n",
       "      <td>8</td>\n",
       "      <td>6</td>\n",
       "      <td>10</td>\n",
       "      <td>6</td>\n",
       "      <td>2</td>\n",
       "      <td>6</td>\n",
       "      <td>10</td>\n",
       "      <td>3</td>\n",
       "      <td>7</td>\n",
       "      <td>3</td>\n",
       "      <td>7</td>\n",
       "      <td>3</td>\n",
       "      <td>9</td>\n",
       "    </tr>\n",
       "    <tr>\n",
       "      <th>2</th>\n",
       "      <td>N</td>\n",
       "      <td>7</td>\n",
       "      <td>11</td>\n",
       "      <td>6</td>\n",
       "      <td>6</td>\n",
       "      <td>3</td>\n",
       "      <td>5</td>\n",
       "      <td>9</td>\n",
       "      <td>4</td>\n",
       "      <td>6</td>\n",
       "      <td>4</td>\n",
       "      <td>4</td>\n",
       "      <td>10</td>\n",
       "      <td>6</td>\n",
       "      <td>10</td>\n",
       "      <td>2</td>\n",
       "      <td>8</td>\n",
       "    </tr>\n",
       "    <tr>\n",
       "      <th>3</th>\n",
       "      <td>G</td>\n",
       "      <td>2</td>\n",
       "      <td>1</td>\n",
       "      <td>3</td>\n",
       "      <td>1</td>\n",
       "      <td>1</td>\n",
       "      <td>8</td>\n",
       "      <td>6</td>\n",
       "      <td>6</td>\n",
       "      <td>6</td>\n",
       "      <td>6</td>\n",
       "      <td>5</td>\n",
       "      <td>9</td>\n",
       "      <td>1</td>\n",
       "      <td>7</td>\n",
       "      <td>5</td>\n",
       "      <td>10</td>\n",
       "    </tr>\n",
       "    <tr>\n",
       "      <th>4</th>\n",
       "      <td>S</td>\n",
       "      <td>4</td>\n",
       "      <td>11</td>\n",
       "      <td>5</td>\n",
       "      <td>8</td>\n",
       "      <td>3</td>\n",
       "      <td>8</td>\n",
       "      <td>8</td>\n",
       "      <td>6</td>\n",
       "      <td>9</td>\n",
       "      <td>5</td>\n",
       "      <td>6</td>\n",
       "      <td>6</td>\n",
       "      <td>0</td>\n",
       "      <td>8</td>\n",
       "      <td>9</td>\n",
       "      <td>7</td>\n",
       "    </tr>\n",
       "    <tr>\n",
       "      <th>5</th>\n",
       "      <td>B</td>\n",
       "      <td>4</td>\n",
       "      <td>2</td>\n",
       "      <td>5</td>\n",
       "      <td>4</td>\n",
       "      <td>4</td>\n",
       "      <td>8</td>\n",
       "      <td>7</td>\n",
       "      <td>6</td>\n",
       "      <td>6</td>\n",
       "      <td>7</td>\n",
       "      <td>6</td>\n",
       "      <td>6</td>\n",
       "      <td>2</td>\n",
       "      <td>8</td>\n",
       "      <td>7</td>\n",
       "      <td>10</td>\n",
       "    </tr>\n",
       "    <tr>\n",
       "      <th>6</th>\n",
       "      <td>A</td>\n",
       "      <td>1</td>\n",
       "      <td>1</td>\n",
       "      <td>3</td>\n",
       "      <td>2</td>\n",
       "      <td>1</td>\n",
       "      <td>8</td>\n",
       "      <td>2</td>\n",
       "      <td>2</td>\n",
       "      <td>2</td>\n",
       "      <td>8</td>\n",
       "      <td>2</td>\n",
       "      <td>8</td>\n",
       "      <td>1</td>\n",
       "      <td>6</td>\n",
       "      <td>2</td>\n",
       "      <td>7</td>\n",
       "    </tr>\n",
       "    <tr>\n",
       "      <th>7</th>\n",
       "      <td>J</td>\n",
       "      <td>2</td>\n",
       "      <td>2</td>\n",
       "      <td>4</td>\n",
       "      <td>4</td>\n",
       "      <td>2</td>\n",
       "      <td>10</td>\n",
       "      <td>6</td>\n",
       "      <td>2</td>\n",
       "      <td>6</td>\n",
       "      <td>12</td>\n",
       "      <td>4</td>\n",
       "      <td>8</td>\n",
       "      <td>1</td>\n",
       "      <td>6</td>\n",
       "      <td>1</td>\n",
       "      <td>7</td>\n",
       "    </tr>\n",
       "    <tr>\n",
       "      <th>8</th>\n",
       "      <td>M</td>\n",
       "      <td>11</td>\n",
       "      <td>15</td>\n",
       "      <td>13</td>\n",
       "      <td>9</td>\n",
       "      <td>7</td>\n",
       "      <td>13</td>\n",
       "      <td>2</td>\n",
       "      <td>6</td>\n",
       "      <td>2</td>\n",
       "      <td>12</td>\n",
       "      <td>1</td>\n",
       "      <td>9</td>\n",
       "      <td>8</td>\n",
       "      <td>1</td>\n",
       "      <td>1</td>\n",
       "      <td>8</td>\n",
       "    </tr>\n",
       "    <tr>\n",
       "      <th>9</th>\n",
       "      <td>X</td>\n",
       "      <td>3</td>\n",
       "      <td>9</td>\n",
       "      <td>5</td>\n",
       "      <td>7</td>\n",
       "      <td>4</td>\n",
       "      <td>8</td>\n",
       "      <td>7</td>\n",
       "      <td>3</td>\n",
       "      <td>8</td>\n",
       "      <td>5</td>\n",
       "      <td>6</td>\n",
       "      <td>8</td>\n",
       "      <td>2</td>\n",
       "      <td>8</td>\n",
       "      <td>6</td>\n",
       "      <td>7</td>\n",
       "    </tr>\n",
       "  </tbody>\n",
       "</table>\n",
       "</div>"
      ],
      "text/plain": [
       "   T   2   8   3  5  1  8.1  13  0  6  6.1  10  8.2  0.1  8.3  0.2  8.4\n",
       "0  I   5  12   3  7  2   10   5  5  4   13   3    9    2    8    4   10\n",
       "1  D   4  11   6  8  6   10   6  2  6   10   3    7    3    7    3    9\n",
       "2  N   7  11   6  6  3    5   9  4  6    4   4   10    6   10    2    8\n",
       "3  G   2   1   3  1  1    8   6  6  6    6   5    9    1    7    5   10\n",
       "4  S   4  11   5  8  3    8   8  6  9    5   6    6    0    8    9    7\n",
       "5  B   4   2   5  4  4    8   7  6  6    7   6    6    2    8    7   10\n",
       "6  A   1   1   3  2  1    8   2  2  2    8   2    8    1    6    2    7\n",
       "7  J   2   2   4  4  2   10   6  2  6   12   4    8    1    6    1    7\n",
       "8  M  11  15  13  9  7   13   2  6  2   12   1    9    8    1    1    8\n",
       "9  X   3   9   5  7  4    8   7  3  8    5   6    8    2    8    6    7"
      ]
     },
     "execution_count": 5,
     "metadata": {},
     "output_type": "execute_result"
    }
   ],
   "source": [
    "df.head(10)"
   ]
  },
  {
   "cell_type": "code",
   "execution_count": 6,
   "metadata": {
    "id": "vS--7syf76BV"
   },
   "outputs": [],
   "source": [
    "names = ['Class',\n",
    "         'x-box',\n",
    "         'y-box',\n",
    "         'width',\n",
    "         'high',\n",
    "         'onpix',\n",
    "         'x-bar',\n",
    "         'y-bar',\n",
    "         'x2bar',\n",
    "         'y2bar',\n",
    "         'xybar',\n",
    "         'x2ybr',\n",
    "         'xy2br',\n",
    "         'x-ege',\n",
    "         'xegvy',\n",
    "         'y-ege',\n",
    "         'yegvx']"
   ]
  },
  {
   "cell_type": "code",
   "execution_count": 7,
   "metadata": {
    "id": "QAjU5Te078AY"
   },
   "outputs": [],
   "source": [
    "X = df.iloc[:, 1 : 17]\n",
    "Y = df.select_dtypes(include = [object])\n"
   ]
  },
  {
   "cell_type": "code",
   "execution_count": 8,
   "metadata": {
    "id": "NXGaDrjf7-Nm"
   },
   "outputs": [],
   "source": [
    "X_train, X_test, Y_train, Y_test = model_selection.train_test_split(X, Y, test_size = 0.20, random_state = 10)"
   ]
  },
  {
   "cell_type": "code",
   "execution_count": 9,
   "metadata": {
    "colab": {
     "base_uri": "https://localhost:8080/",
     "height": 75
    },
    "id": "aqHwA1Al8BEn",
    "outputId": "a49f70aa-1d52-4ab8-97da-815b65abcd12"
   },
   "outputs": [
    {
     "data": {
      "text/plain": [
       "StandardScaler()"
      ]
     },
     "execution_count": 9,
     "metadata": {},
     "output_type": "execute_result"
    }
   ],
   "source": [
    "scaler = StandardScaler()\n",
    "scaler.fit(X_train)"
   ]
  },
  {
   "cell_type": "code",
   "execution_count": 10,
   "metadata": {
    "id": "Q-c72f8a8DdH"
   },
   "outputs": [],
   "source": [
    "X_train = scaler.transform(X_train)\n",
    "X_test = scaler.transform(X_test)"
   ]
  },
  {
   "cell_type": "code",
   "execution_count": 11,
   "metadata": {
    "id": "KonwG_aK8I5Z"
   },
   "outputs": [],
   "source": [
    "mlp = MLPClassifier(hidden_layer_sizes = (250, 300), max_iter = 1000000, activation = 'logistic')"
   ]
  },
  {
   "cell_type": "code",
   "execution_count": 12,
   "metadata": {
    "id": "LoiKZ1N48Nij"
   },
   "outputs": [],
   "source": [
    "cm = ConfusionMatrix(mlp, classes=\"A,B,C,D,E,F,G,H,I,J,K,L,M,N,O,P,Q,R,S,T,U,V,W,X,Y,Z\".split(','))"
   ]
  },
  {
   "cell_type": "code",
   "execution_count": 15,
   "metadata": {
    "colab": {
     "base_uri": "https://localhost:8080/",
     "height": 590
    },
    "id": "E6DqWO_98QZ_",
    "outputId": "17e74bfa-7f08-4418-d856-ecb6f0179965"
   },
   "outputs": [
    {
     "data": {
      "text/plain": [
       "ConfusionMatrix(ax=<AxesSubplot:>,\n",
       "                classes=['A', 'B', 'C', 'D', 'E', 'F', 'G', 'H', 'I', 'J', 'K',\n",
       "                         'L', 'M', 'N', 'O', 'P', 'Q', 'R', 'S', 'T', 'U', 'V',\n",
       "                         'W', 'X', 'Y', 'Z'],\n",
       "                cmap=<matplotlib.colors.ListedColormap object at 0x000001FF693851C0>,\n",
       "                estimator=MLPClassifier(activation='logistic',\n",
       "                                        hidden_layer_sizes=(250, 300),\n",
       "                                        max_iter=1000000))"
      ]
     },
     "execution_count": 15,
     "metadata": {},
     "output_type": "execute_result"
    }
   ],
   "source": [
    "cm.fit(X_train, Y_train.values.ravel())"
   ]
  },
  {
   "cell_type": "code",
   "execution_count": 16,
   "metadata": {
    "colab": {
     "base_uri": "https://localhost:8080/"
    },
    "id": "PivujsDg8Wbk",
    "outputId": "9d005b9f-7f02-4ced-a6d5-17502e3087a3"
   },
   "outputs": [
    {
     "name": "stderr",
     "output_type": "stream",
     "text": [
      "C:\\Users\\kumar\\AppData\\Local\\Programs\\Python\\Python39\\lib\\site-packages\\sklearn\\preprocessing\\_label.py:115: DataConversionWarning: A column-vector y was passed when a 1d array was expected. Please change the shape of y to (n_samples, ), for example using ravel().\n",
      "  y = column_or_1d(y, warn=True)\n"
     ]
    },
    {
     "data": {
      "text/plain": [
       "0.9655"
      ]
     },
     "execution_count": 16,
     "metadata": {},
     "output_type": "execute_result"
    }
   ],
   "source": [
    "cm.score(X_test, Y_test)"
   ]
  },
  {
   "cell_type": "code",
   "execution_count": 17,
   "metadata": {
    "id": "XA8DObWs8cwC"
   },
   "outputs": [],
   "source": [
    "predictions = cm.predict(X_test)"
   ]
  },
  {
   "cell_type": "code",
   "execution_count": 18,
   "metadata": {
    "colab": {
     "base_uri": "https://localhost:8080/"
    },
    "id": "CcFBqBxA8gX8",
    "outputId": "2cf0cf6b-26aa-490d-d8ea-56e1cbb856eb"
   },
   "outputs": [
    {
     "name": "stdout",
     "output_type": "stream",
     "text": [
      "Accuracy:  0.9655\n"
     ]
    }
   ],
   "source": [
    "print(\"Accuracy: \", accuracy_score(Y_test, predictions))"
   ]
  },
  {
   "cell_type": "code",
   "execution_count": 19,
   "metadata": {
    "colab": {
     "base_uri": "https://localhost:8080/"
    },
    "id": "yaY9ljHS8jZ7",
    "outputId": "8a04b5be-2cf4-47a0-dfee-1cef7fb7e7d1"
   },
   "outputs": [
    {
     "name": "stdout",
     "output_type": "stream",
     "text": [
      "[[169   1   0   0   0   0   0   0   0   0   0   0   0   0   0   0   0   0\n",
      "    0   0   0   0   0   0   0   0]\n",
      " [  0 139   0   0   1   0   0   0   0   0   1   0   0   0   0   0   0   2\n",
      "    0   0   0   0   0   1   0   0]\n",
      " [  0   0 159   0   0   0   0   0   0   0   0   1   0   0   1   0   0   0\n",
      "    0   0   0   0   0   0   0   0]\n",
      " [  0   2   0 166   0   0   1   1   0   0   0   0   1   1   1   0   0   1\n",
      "    0   0   0   0   0   0   0   0]\n",
      " [  0   0   3   0 139   0   0   0   0   0   0   2   0   0   0   0   0   0\n",
      "    1   0   0   0   0   0   0   3]\n",
      " [  0   1   0   0   1 133   0   0   0   0   0   0   0   0   0   1   0   0\n",
      "    0   1   0   0   0   0   0   0]\n",
      " [  0   2   1   0   2   0 130   0   0   0   0   1   1   0   0   0   3   1\n",
      "    0   0   0   0   0   0   0   0]\n",
      " [  1   1   0   3   0   1   1 121   0   0   5   0   0   1   0   0   0   3\n",
      "    0   0   1   0   0   0   0   0]\n",
      " [  0   0   0   0   0   0   0   0 137   9   0   1   0   0   0   0   0   0\n",
      "    0   1   0   0   0   0   0   0]\n",
      " [  0   0   0   0   0   0   0   0   0 140   0   0   0   0   0   0   0   0\n",
      "    0   0   0   0   0   0   0   0]\n",
      " [  0   0   0   0   0   0   0   0   0   0 136   0   0   0   0   0   0   0\n",
      "    0   0   0   0   0   0   0   0]\n",
      " [  0   0   0   0   1   0   2   0   0   0   1 161   0   0   0   0   0   0\n",
      "    1   0   0   0   0   1   0   0]\n",
      " [  0   0   0   0   0   0   0   0   0   0   0   0 167   0   1   0   0   0\n",
      "    0   0   0   0   0   0   0   0]\n",
      " [  1   0   0   0   0   0   0   0   0   0   0   0   1 144   2   0   0   1\n",
      "    0   0   0   0   0   0   0   0]\n",
      " [  1   0   0   1   0   0   0   0   0   0   0   0   0   0 152   0   0   0\n",
      "    0   0   0   0   0   0   0   0]\n",
      " [  1   1   0   0   0   5   0   0   0   0   0   0   0   0   1 148   0   1\n",
      "    0   0   0   0   2   0   0   0]\n",
      " [  0   0   0   0   0   0   2   0   0   0   0   0   0   0   2   0 138   0\n",
      "    0   0   0   0   0   0   0   0]\n",
      " [  0   0   0   1   0   0   0   3   0   0   0   0   1   1   0   0   0 155\n",
      "    0   0   0   0   0   0   0   0]\n",
      " [  0   0   0   0   1   1   0   0   0   0   0   0   0   0   0   0   1   0\n",
      "  142   0   0   0   0   0   0   0]\n",
      " [  0   0   0   1   0   0   0   1   0   0   0   0   0   0   0   0   0   0\n",
      "    0 157   0   0   0   0   0   1]\n",
      " [  0   0   1   0   0   0   0   0   0   0   0   0   1   1   1   0   0   0\n",
      "    0   0 157   0   0   0   0   0]\n",
      " [  0   3   0   0   0   0   0   0   0   0   0   0   0   0   0   0   0   0\n",
      "    0   0   0 156   2   0   0   0]\n",
      " [  0   0   0   0   0   0   0   0   0   0   0   0   6   1   3   0   0   0\n",
      "    0   0   1   0 147   0   0   0]\n",
      " [  0   0   0   0   0   0   0   0   0   1   2   0   0   0   0   0   0   0\n",
      "    0   0   0   0   0 160   0   0]\n",
      " [  0   0   0   0   0   0   0   0   0   0   0   0   0   0   0   1   0   0\n",
      "    1   1   0   0   0   0 164   0]\n",
      " [  0   0   0   0   3   0   0   0   0   0   0   0   0   0   0   0   0   0\n",
      "    0   0   0   0   0   0   0 145]]\n"
     ]
    }
   ],
   "source": [
    "print(confusion_matrix(Y_test, predictions))"
   ]
  },
  {
   "cell_type": "code",
   "execution_count": 20,
   "metadata": {
    "colab": {
     "base_uri": "https://localhost:8080/"
    },
    "id": "hl0OtVqd8nQ1",
    "outputId": "f9c5778d-597d-492d-9aa7-a09e201a9c81"
   },
   "outputs": [
    {
     "name": "stdout",
     "output_type": "stream",
     "text": [
      "              precision    recall  f1-score   support\n",
      "\n",
      "           A    0.97688   0.99412   0.98542       170\n",
      "           B    0.92667   0.96528   0.94558       144\n",
      "           C    0.96951   0.98758   0.97846       161\n",
      "           D    0.96512   0.95402   0.95954       174\n",
      "           E    0.93919   0.93919   0.93919       148\n",
      "           F    0.95000   0.97080   0.96029       137\n",
      "           G    0.95588   0.92199   0.93863       141\n",
      "           H    0.96032   0.87681   0.91667       138\n",
      "           I    1.00000   0.92568   0.96140       148\n",
      "           J    0.93333   1.00000   0.96552       140\n",
      "           K    0.93793   1.00000   0.96797       136\n",
      "           L    0.96988   0.96407   0.96697       167\n",
      "           M    0.93820   0.99405   0.96532       168\n",
      "           N    0.96644   0.96644   0.96644       149\n",
      "           O    0.92683   0.98701   0.95597       154\n",
      "           P    0.98667   0.93082   0.95793       159\n",
      "           Q    0.97183   0.97183   0.97183       142\n",
      "           R    0.94512   0.96273   0.95385       161\n",
      "           S    0.97931   0.97931   0.97931       145\n",
      "           T    0.98125   0.98125   0.98125       160\n",
      "           U    0.98742   0.97516   0.98125       161\n",
      "           V    1.00000   0.96894   0.98423       161\n",
      "           W    0.97351   0.93038   0.95146       158\n",
      "           X    0.98765   0.98160   0.98462       163\n",
      "           Y    1.00000   0.98204   0.99094       167\n",
      "           Z    0.97315   0.97973   0.97643       148\n",
      "\n",
      "    accuracy                        0.96550      4000\n",
      "   macro avg    0.96547   0.96503   0.96486      4000\n",
      "weighted avg    0.96609   0.96550   0.96543      4000\n",
      "\n"
     ]
    }
   ],
   "source": [
    "print(classification_report(Y_test, predictions, digits=5))"
   ]
  },
  {
   "cell_type": "code",
   "execution_count": 21,
   "metadata": {
    "colab": {
     "base_uri": "https://localhost:8080/",
     "height": 52
    },
    "id": "V-CcVziA8pke",
    "outputId": "614039d5-dc6a-4cb5-de9e-26e7affd0fdc"
   },
   "outputs": [
    {
     "data": {
      "text/plain": [
       "<Figure size 576x396 with 0 Axes>"
      ]
     },
     "metadata": {},
     "output_type": "display_data"
    },
    {
     "data": {
      "text/plain": [
       "<AxesSubplot:title={'center':'MLPClassifier Confusion Matrix'}, xlabel='Predicted Class', ylabel='True Class'>"
      ]
     },
     "execution_count": 21,
     "metadata": {},
     "output_type": "execute_result"
    }
   ],
   "source": [
    "cm.poof()"
   ]
  },
  {
   "cell_type": "code",
   "execution_count": null,
   "metadata": {},
   "outputs": [],
   "source": []
  },
  {
   "cell_type": "code",
   "execution_count": null,
   "metadata": {},
   "outputs": [],
   "source": []
  }
 ],
 "metadata": {
  "colab": {
   "provenance": []
  },
  "kernelspec": {
   "display_name": "Python 3 (ipykernel)",
   "language": "python",
   "name": "python3"
  },
  "language_info": {
   "codemirror_mode": {
    "name": "ipython",
    "version": 3
   },
   "file_extension": ".py",
   "mimetype": "text/x-python",
   "name": "python",
   "nbconvert_exporter": "python",
   "pygments_lexer": "ipython3",
   "version": "3.10.3"
  },
  "varInspector": {
   "cols": {
    "lenName": 16,
    "lenType": 16,
    "lenVar": 40
   },
   "kernels_config": {
    "python": {
     "delete_cmd_postfix": "",
     "delete_cmd_prefix": "del ",
     "library": "var_list.py",
     "varRefreshCmd": "print(var_dic_list())"
    },
    "r": {
     "delete_cmd_postfix": ") ",
     "delete_cmd_prefix": "rm(",
     "library": "var_list.r",
     "varRefreshCmd": "cat(var_dic_list()) "
    }
   },
   "types_to_exclude": [
    "module",
    "function",
    "builtin_function_or_method",
    "instance",
    "_Feature"
   ],
   "window_display": false
  }
 },
 "nbformat": 4,
 "nbformat_minor": 1
}
