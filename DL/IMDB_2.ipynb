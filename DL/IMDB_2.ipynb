{
 "cells": [
  {
   "cell_type": "code",
   "execution_count": 7,
   "id": "8e37f121",
   "metadata": {},
   "outputs": [],
   "source": [
    "#!pip install Keras-Preprocessing\n",
    "import numpy as np\n",
    "from keras import models, layers, optimizers\n",
    "from keras.preprocessing.text import Tokenizer\n",
    "from keras_preprocessing.sequence import pad_sequences\n",
    "from tensorflow.keras.utils import to_categorical\n",
    "import pandas as pd\n",
    "from sklearn import preprocessing\n",
    "# Load the data\n",
    "df=pd.read_csv(\"IMDB Dataset.csv\")"
   ]
  },
  {
   "cell_type": "code",
   "execution_count": 8,
   "id": "e8c0c16d",
   "metadata": {},
   "outputs": [],
   "source": [
    "from tensorflow.keras.preprocessing.sequence import pad_sequences"
   ]
  },
  {
   "cell_type": "code",
   "execution_count": null,
   "id": "f5060483",
   "metadata": {},
   "outputs": [],
   "source": []
  },
  {
   "cell_type": "code",
   "execution_count": 3,
   "id": "888b45f6",
   "metadata": {},
   "outputs": [],
   "source": [
    "train_df = df.sample(frac=0.8, random_state=25)\n",
    "test_df = df.drop(train_df.index)\n"
   ]
  },
  {
   "cell_type": "code",
   "execution_count": 4,
   "id": "3a7bea72",
   "metadata": {},
   "outputs": [],
   "source": [
    "from sklearn.model_selection import train_test_split\n",
    "train_df,test_df=train_test_split(df, test_size=0.2,random_state=25)"
   ]
  },
  {
   "cell_type": "code",
   "execution_count": 5,
   "id": "5817db76",
   "metadata": {},
   "outputs": [
    {
     "name": "stdout",
     "output_type": "stream",
     "text": [
      "                                                  review sentiment\n",
      "46392  Director Jay Craven's adaptation of Howard Fra...  positive\n",
      "6132   I couldn't wait to see this movie. About half ...  negative\n",
      "23427  First of all, I think the below comment is unw...  positive\n",
      "14660  Probably one of the most boriest slasher movie...  negative\n",
      "4046   Twins Effect, starring some of HK's most popul...  positive\n",
      "...                                                  ...       ...\n",
      "35702  In a not totally successful attempt to be take...  negative\n",
      "26767  The case of the Scorpion's tail is a highly st...  positive\n",
      "6618   Atlantis: The Lost Empire is a better movie th...  positive\n",
      "24894  I thought this series was going to be another ...  negative\n",
      "29828  I saw this movie as a very young girl (I'm 27 ...  negative\n",
      "\n",
      "[40000 rows x 2 columns]\n"
     ]
    }
   ],
   "source": [
    "print(train_df)"
   ]
  },
  {
   "cell_type": "code",
   "execution_count": 6,
   "id": "084923e4",
   "metadata": {},
   "outputs": [
    {
     "name": "stdout",
     "output_type": "stream",
     "text": [
      "                                                  review sentiment\n",
      "13920  Kudos to Fawcett to taking on roles that, at t...  positive\n",
      "23439  If you are a fan of early Duke movies, this Lo...  positive\n",
      "11851  I'd love to give this movie a 10/10, but in it...  positive\n",
      "8278   The credits at the end read \"ALL directed by S...  negative\n",
      "31258  This young filmmaker has a talent for capturin...  positive\n",
      "...                                                  ...       ...\n",
      "39883  This is a thinking man's silly movie. If you d...  positive\n",
      "40521  There's a sign on The Lost Highway that says:<...  positive\n",
      "19434  Can any one help find out the title and artist...  positive\n",
      "4571   Having watched the first scene, I realized the...  negative\n",
      "33562  This is a very dramatic and suspenseful movie....  positive\n",
      "\n",
      "[10000 rows x 2 columns]\n"
     ]
    }
   ],
   "source": [
    "print(test_df)"
   ]
  },
  {
   "cell_type": "code",
   "execution_count": 7,
   "id": "9e446b7a",
   "metadata": {},
   "outputs": [],
   "source": [
    "# Tokenize the text data\n",
    "tokenizer = Tokenizer(num_words=10000)\n",
    "tokenizer.fit_on_texts(train_df['review'].tolist())\n",
    "\n",
    "# Convert the text data to sequences of integers\n",
    "train_sequences = tokenizer.texts_to_sequences(train_df['review'].tolist())\n",
    "test_sequences = tokenizer.texts_to_sequences(test_df['review'].tolist())\n",
    "\n",
    "# Pad the sequences to a fixed length\n",
    "max_length = 100\n",
    "train_data = pad_sequences(train_sequences, maxlen=max_length)\n",
    "test_data = pad_sequences(test_sequences, maxlen=max_length)\n",
    "\n",
    "# Convert the labels to categorical\n",
    "label_encoder = preprocessing.LabelEncoder()\n",
    "train_labels= label_encoder.fit_transform(train_df['sentiment'])\n",
    "#train_labels = to_categorical(train_df['sentiment'])\n"
   ]
  },
  {
   "cell_type": "code",
   "execution_count": 8,
   "id": "dbe642c6",
   "metadata": {},
   "outputs": [],
   "source": [
    "model = models.Sequential()\n",
    "model.add(layers.Embedding(10000, 64, input_length=max_length))\n",
    "model.add(layers.Flatten())\n",
    "model.add(layers.Dense(32, activation='relu'))\n",
    "model.add(layers.Dropout(0.5))\n",
    "model.add(layers.Dense(1, activation='sigmoid'))\n"
   ]
  },
  {
   "cell_type": "code",
   "execution_count": null,
   "id": "727968fd",
   "metadata": {},
   "outputs": [],
   "source": [
    " model.compile(optimizer='adam', loss='binary_crossentropy', metrics=['accuracy'])\n"
   ]
  },
  {
   "cell_type": "code",
   "execution_count": 11,
   "id": "57876b00",
   "metadata": {},
   "outputs": [
    {
     "name": "stdout",
     "output_type": "stream",
     "text": [
      "Epoch 1/10\n",
      "1000/1000 [==============================] - 22s 21ms/step - loss: 0.4161 - accuracy: 0.8001 - val_loss: 0.3263 - val_accuracy: 0.8594\n",
      "Epoch 2/10\n",
      "1000/1000 [==============================] - 20s 20ms/step - loss: 0.1570 - accuracy: 0.9431 - val_loss: 0.4034 - val_accuracy: 0.8504\n",
      "Epoch 3/10\n",
      "1000/1000 [==============================] - 20s 20ms/step - loss: 0.0324 - accuracy: 0.9912 - val_loss: 0.5766 - val_accuracy: 0.8418\n",
      "Epoch 4/10\n",
      "1000/1000 [==============================] - 20s 20ms/step - loss: 0.0074 - accuracy: 0.9984 - val_loss: 0.7188 - val_accuracy: 0.8499\n",
      "Epoch 5/10\n",
      "1000/1000 [==============================] - 20s 20ms/step - loss: 0.0045 - accuracy: 0.9988 - val_loss: 0.8735 - val_accuracy: 0.8465\n",
      "Epoch 6/10\n",
      "1000/1000 [==============================] - 20s 20ms/step - loss: 0.0065 - accuracy: 0.9982 - val_loss: 1.0254 - val_accuracy: 0.8367\n",
      "Epoch 7/10\n",
      "1000/1000 [==============================] - 20s 20ms/step - loss: 0.0131 - accuracy: 0.9957 - val_loss: 0.9917 - val_accuracy: 0.8339\n",
      "Epoch 8/10\n",
      "1000/1000 [==============================] - 21s 21ms/step - loss: 0.0092 - accuracy: 0.9970 - val_loss: 1.0848 - val_accuracy: 0.8354\n",
      "Epoch 9/10\n",
      "1000/1000 [==============================] - 20s 20ms/step - loss: 0.0043 - accuracy: 0.9986 - val_loss: 1.1961 - val_accuracy: 0.8393\n",
      "Epoch 10/10\n",
      "1000/1000 [==============================] - 21s 21ms/step - loss: 0.0033 - accuracy: 0.9988 - val_loss: 1.3498 - val_accuracy: 0.8338\n"
     ]
    }
   ],
   "source": [
    "history = model.fit(train_data, train_labels, epochs=10, batch_size=32, validation_split=0.2)\n"
   ]
  },
  {
   "cell_type": "code",
   "execution_count": 12,
   "id": "68bd4d32",
   "metadata": {},
   "outputs": [
    {
     "name": "stdout",
     "output_type": "stream",
     "text": [
      "0\n",
      "313/313 [==============================] - 1s 4ms/step - loss: 1.2784 - accuracy: 0.8339\n",
      "Test accuracy: 0.833899974822998\n"
     ]
    }
   ],
   "source": [
    "test_labels= label_encoder.fit_transform(test_df['sentiment'])\n",
    "print(test_labels[2])\n",
    "#test_labels = to_categorical(test_df['sentiment'])\n",
    "test_loss, test_acc = model.evaluate(test_data, test_labels)\n",
    "print('Test accuracy:', test_acc)\n"
   ]
  },
  {
   "cell_type": "code",
   "execution_count": 13,
   "id": "34236bd0",
   "metadata": {},
   "outputs": [
    {
     "data": {
      "image/png": "[encoded data removed]",
      "text/plain": [
       "<Figure size 432x288 with 1 Axes>"
      ]
     },
     "metadata": {
      "needs_background": "light"
     },
     "output_type": "display_data"
    }
   ],
   "source": [
    "import matplotlib.pyplot as plt\n",
    "plt.plot(history.history['loss'], label='Training Loss')\n",
    "plt.plot(history.history['val_loss'], label='Validation Loss')\n",
    "plt.xlabel('Epoch')\n",
    "plt.ylabel('Loss')\n",
    "plt.legend()\n",
    "plt.show()\n"
   ]
  },
  {
   "cell_type": "code",
   "execution_count": 14,
   "id": "6574d9f1",
   "metadata": {},
   "outputs": [
    {
     "data": {
      "image/png": "[encoded data removed]",
      "text/plain": [
       "<Figure size 432x288 with 1 Axes>"
      ]
     },
     "metadata": {
      "needs_background": "light"
     },
     "output_type": "display_data"
    }
   ],
   "source": [
    "plt.plot(history.history['accuracy'], label='Training Accuracy')\n",
    "plt.plot(history.history['val_accuracy'], label='Validation Accuracy')\n",
    "plt.xlabel('Epoch')\n",
    "plt.ylabel('Accuracy')\n",
    "plt.legend()\n",
    "plt.show()"
   ]
  },
  {
   "cell_type": "code",
   "execution_count": 15,
   "id": "afafc421",
   "metadata": {},
   "outputs": [
    {
     "name": "stdout",
     "output_type": "stream",
     "text": [
      "313/313 [==============================] - 1s 3ms/step\n"
     ]
    }
   ],
   "source": [
    "predictions = model.predict(test_data)"
   ]
  },
  {
   "cell_type": "code",
   "execution_count": 16,
   "id": "779b4f0d",
   "metadata": {},
   "outputs": [],
   "source": [
    "text = tokenizer.sequences_to_texts(test_data)"
   ]
  },
  {
   "cell_type": "code",
   "execution_count": 17,
   "id": "4095797f",
   "metadata": {},
   "outputs": [],
   "source": [
    "pred = np.zeros(len(predictions))\n",
    "for i, score in enumerate(predictions):\n",
    "    pred[i] = np.round(score)\n",
    "    \n",
    "predicted_sentiments = ['positive' if label == 1 else 'negative' for label in pred]    "
   ]
  },
  {
   "cell_type": "code",
   "execution_count": 18,
   "id": "3a7f7236",
   "metadata": {},
   "outputs": [
    {
     "name": "stdout",
     "output_type": "stream",
     "text": [
      "Review text: average and surprisingly tame fulci giallo which means it's still quite bad by normal standards but by its solid build up and some nice touches such as a neat time twist on the issues of visions and br br the well known weaknesses are in full gear banal dialogue wooden acting illogical plot points and the finale goes on much too long while the denouement proves to be a rather lame or shall i say limp affair br br fulci's ironic handling of giallo is amusing though yellow clues wherever you look br br 3 out of 10 killers\n",
      "\n",
      "Review : negative\n"
     ]
    }
   ],
   "source": [
    "print(f\"Review text: {text[4]}\\n\")\n",
    "print(f\"Review : {predicted_sentiments[4]}\")\n"
   ]
  },
  {
   "cell_type": "code",
   "execution_count": null,
   "id": "fe8b6d6a",
   "metadata": {},
   "outputs": [],
   "source": []
  }
 ],
 "metadata": {
  "kernelspec": {
   "display_name": "Python 3 (ipykernel)",
   "language": "python",
   "name": "python3"
  },
  "language_info": {
   "codemirror_mode": {
    "name": "ipython",
    "version": 3
   },
   "file_extension": ".py",
   "mimetype": "text/x-python",
   "name": "python",
   "nbconvert_exporter": "python",
   "pygments_lexer": "ipython3",
   "version": "3.10.3"
  },
  "varInspector": {
   "cols": {
    "lenName": 16,
    "lenType": 16,
    "lenVar": 40
   },
   "kernels_config": {
    "python": {
     "delete_cmd_postfix": "",
     "delete_cmd_prefix": "del ",
     "library": "var_list.py",
     "varRefreshCmd": "print(var_dic_list())"
    },
    "r": {
     "delete_cmd_postfix": ") ",
     "delete_cmd_prefix": "rm(",
     "library": "var_list.r",
     "varRefreshCmd": "cat(var_dic_list()) "
    }
   },
   "types_to_exclude": [
    "module",
    "function",
    "builtin_function_or_method",
    "instance",
    "_Feature"
   ],
   "window_display": false
  }
 },
 "nbformat": 4,
 "nbformat_minor": 5
}
