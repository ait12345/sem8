{
 "cells": [
  {
   "cell_type": "code",
   "execution_count": 1,
   "id": "ccd3a2e6",
   "metadata": {},
   "outputs": [],
   "source": [
    "from sklearn.model_selection import train_test_split\n",
    "from sklearn.preprocessing import StandardScaler\n",
    "import pandas as pd"
   ]
  },
  {
   "cell_type": "markdown",
   "id": "12ac7a50",
   "metadata": {},
   "source": [
    "Boston Housing Dataset Attribute Information (in order):\n",
    "\n",
    "CRIM : per capita crime rate by town ZN : proportion of residential land zoned for lots over 25,000 sq.ft. INDUS : proportion of non-retail business acres per town CHAS : Charles River dummy variable (= 1 if tract bounds river; 0 otherwise) NOX : nitric oxides concentration (parts per 10 million) RM : average number of rooms per dwelling AGE : proportion of owner-occupied units built prior to 1940 DIS : weighted distances to five Boston employment centres RAD : index of accessibility to radial highways TAX : full-value property-tax rate per $10,000"
   ]
  },
  {
   "cell_type": "code",
   "execution_count": 22,
   "id": "031054e7",
   "metadata": {},
   "outputs": [
    {
     "data": {
      "text/html": [
       "<div>\n",
       "<style scoped>\n",
       "    .dataframe tbody tr th:only-of-type {\n",
       "        vertical-align: middle;\n",
       "    }\n",
       "\n",
       "    .dataframe tbody tr th {\n",
       "        vertical-align: top;\n",
       "    }\n",
       "\n",
       "    .dataframe thead th {\n",
       "        text-align: right;\n",
       "    }\n",
       "</style>\n",
       "<table border=\"1\" class=\"dataframe\">\n",
       "  <thead>\n",
       "    <tr style=\"text-align: right;\">\n",
       "      <th></th>\n",
       "      <th>CRIM</th>\n",
       "      <th>ZN</th>\n",
       "      <th>INDUS</th>\n",
       "      <th>CHAS</th>\n",
       "      <th>NOX</th>\n",
       "      <th>RM</th>\n",
       "      <th>AGE</th>\n",
       "      <th>DIS</th>\n",
       "      <th>RAD</th>\n",
       "      <th>TAX</th>\n",
       "      <th>PTRATIO</th>\n",
       "      <th>B</th>\n",
       "      <th>LSTAT</th>\n",
       "      <th>MEDV</th>\n",
       "    </tr>\n",
       "  </thead>\n",
       "  <tbody>\n",
       "    <tr>\n",
       "      <th>0</th>\n",
       "      <td>0.00632</td>\n",
       "      <td>18.0</td>\n",
       "      <td>2.31</td>\n",
       "      <td>0</td>\n",
       "      <td>0.538</td>\n",
       "      <td>6.575</td>\n",
       "      <td>65.2</td>\n",
       "      <td>4.0900</td>\n",
       "      <td>1</td>\n",
       "      <td>296.0</td>\n",
       "      <td>15.3</td>\n",
       "      <td>396.90</td>\n",
       "      <td>4.98</td>\n",
       "      <td>24.0</td>\n",
       "    </tr>\n",
       "    <tr>\n",
       "      <th>1</th>\n",
       "      <td>0.02731</td>\n",
       "      <td>0.0</td>\n",
       "      <td>7.07</td>\n",
       "      <td>0</td>\n",
       "      <td>0.469</td>\n",
       "      <td>6.421</td>\n",
       "      <td>78.9</td>\n",
       "      <td>4.9671</td>\n",
       "      <td>2</td>\n",
       "      <td>242.0</td>\n",
       "      <td>17.8</td>\n",
       "      <td>396.90</td>\n",
       "      <td>9.14</td>\n",
       "      <td>21.6</td>\n",
       "    </tr>\n",
       "    <tr>\n",
       "      <th>2</th>\n",
       "      <td>0.02729</td>\n",
       "      <td>0.0</td>\n",
       "      <td>7.07</td>\n",
       "      <td>0</td>\n",
       "      <td>0.469</td>\n",
       "      <td>7.185</td>\n",
       "      <td>61.1</td>\n",
       "      <td>4.9671</td>\n",
       "      <td>2</td>\n",
       "      <td>242.0</td>\n",
       "      <td>17.8</td>\n",
       "      <td>392.83</td>\n",
       "      <td>4.03</td>\n",
       "      <td>34.7</td>\n",
       "    </tr>\n",
       "    <tr>\n",
       "      <th>3</th>\n",
       "      <td>0.03237</td>\n",
       "      <td>0.0</td>\n",
       "      <td>2.18</td>\n",
       "      <td>0</td>\n",
       "      <td>0.458</td>\n",
       "      <td>6.998</td>\n",
       "      <td>45.8</td>\n",
       "      <td>6.0622</td>\n",
       "      <td>3</td>\n",
       "      <td>222.0</td>\n",
       "      <td>18.7</td>\n",
       "      <td>394.63</td>\n",
       "      <td>2.94</td>\n",
       "      <td>33.4</td>\n",
       "    </tr>\n",
       "    <tr>\n",
       "      <th>4</th>\n",
       "      <td>0.06905</td>\n",
       "      <td>0.0</td>\n",
       "      <td>2.18</td>\n",
       "      <td>0</td>\n",
       "      <td>0.458</td>\n",
       "      <td>7.147</td>\n",
       "      <td>54.2</td>\n",
       "      <td>6.0622</td>\n",
       "      <td>3</td>\n",
       "      <td>222.0</td>\n",
       "      <td>18.7</td>\n",
       "      <td>396.90</td>\n",
       "      <td>5.33</td>\n",
       "      <td>36.2</td>\n",
       "    </tr>\n",
       "  </tbody>\n",
       "</table>\n",
       "</div>"
      ],
      "text/plain": [
       "      CRIM    ZN  INDUS  CHAS    NOX     RM   AGE     DIS  RAD    TAX  \\\n",
       "0  0.00632  18.0   2.31     0  0.538  6.575  65.2  4.0900    1  296.0   \n",
       "1  0.02731   0.0   7.07     0  0.469  6.421  78.9  4.9671    2  242.0   \n",
       "2  0.02729   0.0   7.07     0  0.469  7.185  61.1  4.9671    2  242.0   \n",
       "3  0.03237   0.0   2.18     0  0.458  6.998  45.8  6.0622    3  222.0   \n",
       "4  0.06905   0.0   2.18     0  0.458  7.147  54.2  6.0622    3  222.0   \n",
       "\n",
       "   PTRATIO       B  LSTAT  MEDV  \n",
       "0     15.3  396.90   4.98  24.0  \n",
       "1     17.8  396.90   9.14  21.6  \n",
       "2     17.8  392.83   4.03  34.7  \n",
       "3     18.7  394.63   2.94  33.4  \n",
       "4     18.7  396.90   5.33  36.2  "
      ]
     },
     "execution_count": 22,
     "metadata": {},
     "output_type": "execute_result"
    }
   ],
   "source": [
    "# Load the Boston Housing Price Prediction dataset\n",
    "column_names = ['CRIM', 'ZN', 'INDUS', 'CHAS', 'NOX', 'RM', 'AGE', 'DIS', 'RAD', 'TAX', 'PTRATIO', 'B', 'LSTAT', 'MEDV']\n",
    "boston = pd.read_csv('./housing.csv', delimiter=r\"\\s+\",header=None, names=column_names)\n",
    "boston.head()"
   ]
  },
  {
   "cell_type": "code",
   "execution_count": 23,
   "id": "1e07cc8a",
   "metadata": {},
   "outputs": [],
   "source": [
    "#First look at the dataset"
   ]
  },
  {
   "cell_type": "code",
   "execution_count": 4,
   "id": "d0dd55c1",
   "metadata": {},
   "outputs": [
    {
     "name": "stdout",
     "output_type": "stream",
     "text": [
      "(506, 14)\n"
     ]
    }
   ],
   "source": [
    "print(boston.shape)"
   ]
  },
  {
   "cell_type": "code",
   "execution_count": 5,
   "id": "4ca48ae1",
   "metadata": {},
   "outputs": [
    {
     "data": {
      "text/plain": [
       "CRIM       0\n",
       "ZN         0\n",
       "INDUS      0\n",
       "CHAS       0\n",
       "NOX        0\n",
       "RM         0\n",
       "AGE        0\n",
       "DIS        0\n",
       "RAD        0\n",
       "TAX        0\n",
       "PTRATIO    0\n",
       "B          0\n",
       "LSTAT      0\n",
       "MEDV       0\n",
       "dtype: int64"
      ]
     },
     "execution_count": 5,
     "metadata": {},
     "output_type": "execute_result"
    }
   ],
   "source": [
    "boston.isnull().sum()"
   ]
  },
  {
   "cell_type": "code",
   "execution_count": 6,
   "id": "fe2030de",
   "metadata": {},
   "outputs": [
    {
     "data": {
      "text/html": [
       "<div>\n",
       "<style scoped>\n",
       "    .dataframe tbody tr th:only-of-type {\n",
       "        vertical-align: middle;\n",
       "    }\n",
       "\n",
       "    .dataframe tbody tr th {\n",
       "        vertical-align: top;\n",
       "    }\n",
       "\n",
       "    .dataframe thead th {\n",
       "        text-align: right;\n",
       "    }\n",
       "</style>\n",
       "<table border=\"1\" class=\"dataframe\">\n",
       "  <thead>\n",
       "    <tr style=\"text-align: right;\">\n",
       "      <th></th>\n",
       "      <th>CRIM</th>\n",
       "      <th>ZN</th>\n",
       "      <th>INDUS</th>\n",
       "      <th>CHAS</th>\n",
       "      <th>NOX</th>\n",
       "      <th>RM</th>\n",
       "      <th>AGE</th>\n",
       "      <th>DIS</th>\n",
       "      <th>RAD</th>\n",
       "      <th>TAX</th>\n",
       "      <th>PTRATIO</th>\n",
       "      <th>B</th>\n",
       "      <th>LSTAT</th>\n",
       "      <th>MEDV</th>\n",
       "    </tr>\n",
       "  </thead>\n",
       "  <tbody>\n",
       "    <tr>\n",
       "      <th>count</th>\n",
       "      <td>506.000000</td>\n",
       "      <td>506.000000</td>\n",
       "      <td>506.000000</td>\n",
       "      <td>506.000000</td>\n",
       "      <td>506.000000</td>\n",
       "      <td>506.000000</td>\n",
       "      <td>506.000000</td>\n",
       "      <td>506.000000</td>\n",
       "      <td>506.000000</td>\n",
       "      <td>506.000000</td>\n",
       "      <td>506.000000</td>\n",
       "      <td>506.000000</td>\n",
       "      <td>506.000000</td>\n",
       "      <td>506.000000</td>\n",
       "    </tr>\n",
       "    <tr>\n",
       "      <th>mean</th>\n",
       "      <td>3.613524</td>\n",
       "      <td>11.363636</td>\n",
       "      <td>11.136779</td>\n",
       "      <td>0.069170</td>\n",
       "      <td>0.554695</td>\n",
       "      <td>6.284634</td>\n",
       "      <td>68.574901</td>\n",
       "      <td>3.795043</td>\n",
       "      <td>9.549407</td>\n",
       "      <td>408.237154</td>\n",
       "      <td>18.455534</td>\n",
       "      <td>356.674032</td>\n",
       "      <td>12.653063</td>\n",
       "      <td>22.532806</td>\n",
       "    </tr>\n",
       "    <tr>\n",
       "      <th>std</th>\n",
       "      <td>8.601545</td>\n",
       "      <td>23.322453</td>\n",
       "      <td>6.860353</td>\n",
       "      <td>0.253994</td>\n",
       "      <td>0.115878</td>\n",
       "      <td>0.702617</td>\n",
       "      <td>28.148861</td>\n",
       "      <td>2.105710</td>\n",
       "      <td>8.707259</td>\n",
       "      <td>168.537116</td>\n",
       "      <td>2.164946</td>\n",
       "      <td>91.294864</td>\n",
       "      <td>7.141062</td>\n",
       "      <td>9.197104</td>\n",
       "    </tr>\n",
       "    <tr>\n",
       "      <th>min</th>\n",
       "      <td>0.006320</td>\n",
       "      <td>0.000000</td>\n",
       "      <td>0.460000</td>\n",
       "      <td>0.000000</td>\n",
       "      <td>0.385000</td>\n",
       "      <td>3.561000</td>\n",
       "      <td>2.900000</td>\n",
       "      <td>1.129600</td>\n",
       "      <td>1.000000</td>\n",
       "      <td>187.000000</td>\n",
       "      <td>12.600000</td>\n",
       "      <td>0.320000</td>\n",
       "      <td>1.730000</td>\n",
       "      <td>5.000000</td>\n",
       "    </tr>\n",
       "    <tr>\n",
       "      <th>25%</th>\n",
       "      <td>0.082045</td>\n",
       "      <td>0.000000</td>\n",
       "      <td>5.190000</td>\n",
       "      <td>0.000000</td>\n",
       "      <td>0.449000</td>\n",
       "      <td>5.885500</td>\n",
       "      <td>45.025000</td>\n",
       "      <td>2.100175</td>\n",
       "      <td>4.000000</td>\n",
       "      <td>279.000000</td>\n",
       "      <td>17.400000</td>\n",
       "      <td>375.377500</td>\n",
       "      <td>6.950000</td>\n",
       "      <td>17.025000</td>\n",
       "    </tr>\n",
       "    <tr>\n",
       "      <th>50%</th>\n",
       "      <td>0.256510</td>\n",
       "      <td>0.000000</td>\n",
       "      <td>9.690000</td>\n",
       "      <td>0.000000</td>\n",
       "      <td>0.538000</td>\n",
       "      <td>6.208500</td>\n",
       "      <td>77.500000</td>\n",
       "      <td>3.207450</td>\n",
       "      <td>5.000000</td>\n",
       "      <td>330.000000</td>\n",
       "      <td>19.050000</td>\n",
       "      <td>391.440000</td>\n",
       "      <td>11.360000</td>\n",
       "      <td>21.200000</td>\n",
       "    </tr>\n",
       "    <tr>\n",
       "      <th>75%</th>\n",
       "      <td>3.677083</td>\n",
       "      <td>12.500000</td>\n",
       "      <td>18.100000</td>\n",
       "      <td>0.000000</td>\n",
       "      <td>0.624000</td>\n",
       "      <td>6.623500</td>\n",
       "      <td>94.075000</td>\n",
       "      <td>5.188425</td>\n",
       "      <td>24.000000</td>\n",
       "      <td>666.000000</td>\n",
       "      <td>20.200000</td>\n",
       "      <td>396.225000</td>\n",
       "      <td>16.955000</td>\n",
       "      <td>25.000000</td>\n",
       "    </tr>\n",
       "    <tr>\n",
       "      <th>max</th>\n",
       "      <td>88.976200</td>\n",
       "      <td>100.000000</td>\n",
       "      <td>27.740000</td>\n",
       "      <td>1.000000</td>\n",
       "      <td>0.871000</td>\n",
       "      <td>8.780000</td>\n",
       "      <td>100.000000</td>\n",
       "      <td>12.126500</td>\n",
       "      <td>24.000000</td>\n",
       "      <td>711.000000</td>\n",
       "      <td>22.000000</td>\n",
       "      <td>396.900000</td>\n",
       "      <td>37.970000</td>\n",
       "      <td>50.000000</td>\n",
       "    </tr>\n",
       "  </tbody>\n",
       "</table>\n",
       "</div>"
      ],
      "text/plain": [
       "             CRIM          ZN       INDUS        CHAS         NOX          RM  \\\n",
       "count  506.000000  506.000000  506.000000  506.000000  506.000000  506.000000   \n",
       "mean     3.613524   11.363636   11.136779    0.069170    0.554695    6.284634   \n",
       "std      8.601545   23.322453    6.860353    0.253994    0.115878    0.702617   \n",
       "min      0.006320    0.000000    0.460000    0.000000    0.385000    3.561000   \n",
       "25%      0.082045    0.000000    5.190000    0.000000    0.449000    5.885500   \n",
       "50%      0.256510    0.000000    9.690000    0.000000    0.538000    6.208500   \n",
       "75%      3.677083   12.500000   18.100000    0.000000    0.624000    6.623500   \n",
       "max     88.976200  100.000000   27.740000    1.000000    0.871000    8.780000   \n",
       "\n",
       "              AGE         DIS         RAD         TAX     PTRATIO           B  \\\n",
       "count  506.000000  506.000000  506.000000  506.000000  506.000000  506.000000   \n",
       "mean    68.574901    3.795043    9.549407  408.237154   18.455534  356.674032   \n",
       "std     28.148861    2.105710    8.707259  168.537116    2.164946   91.294864   \n",
       "min      2.900000    1.129600    1.000000  187.000000   12.600000    0.320000   \n",
       "25%     45.025000    2.100175    4.000000  279.000000   17.400000  375.377500   \n",
       "50%     77.500000    3.207450    5.000000  330.000000   19.050000  391.440000   \n",
       "75%     94.075000    5.188425   24.000000  666.000000   20.200000  396.225000   \n",
       "max    100.000000   12.126500   24.000000  711.000000   22.000000  396.900000   \n",
       "\n",
       "            LSTAT        MEDV  \n",
       "count  506.000000  506.000000  \n",
       "mean    12.653063   22.532806  \n",
       "std      7.141062    9.197104  \n",
       "min      1.730000    5.000000  \n",
       "25%      6.950000   17.025000  \n",
       "50%     11.360000   21.200000  \n",
       "75%     16.955000   25.000000  \n",
       "max     37.970000   50.000000  "
      ]
     },
     "execution_count": 6,
     "metadata": {},
     "output_type": "execute_result"
    }
   ],
   "source": [
    "boston.describe()"
   ]
  },
  {
   "cell_type": "code",
   "execution_count": 7,
   "id": "a4d88c17",
   "metadata": {},
   "outputs": [
    {
     "name": "stdout",
     "output_type": "stream",
     "text": [
      "<class 'pandas.core.frame.DataFrame'>\n",
      "RangeIndex: 506 entries, 0 to 505\n",
      "Data columns (total 14 columns):\n",
      " #   Column   Non-Null Count  Dtype  \n",
      "---  ------   --------------  -----  \n",
      " 0   CRIM     506 non-null    float64\n",
      " 1   ZN       506 non-null    float64\n",
      " 2   INDUS    506 non-null    float64\n",
      " 3   CHAS     506 non-null    int64  \n",
      " 4   NOX      506 non-null    float64\n",
      " 5   RM       506 non-null    float64\n",
      " 6   AGE      506 non-null    float64\n",
      " 7   DIS      506 non-null    float64\n",
      " 8   RAD      506 non-null    int64  \n",
      " 9   TAX      506 non-null    float64\n",
      " 10  PTRATIO  506 non-null    float64\n",
      " 11  B        506 non-null    float64\n",
      " 12  LSTAT    506 non-null    float64\n",
      " 13  MEDV     506 non-null    float64\n",
      "dtypes: float64(12), int64(2)\n",
      "memory usage: 55.5 KB\n"
     ]
    }
   ],
   "source": [
    "boston.info()"
   ]
  },
  {
   "cell_type": "code",
   "execution_count": 8,
   "id": "9b53b69e",
   "metadata": {},
   "outputs": [
    {
     "name": "stderr",
     "output_type": "stream",
     "text": [
      "C:\\Python310\\lib\\site-packages\\seaborn\\distributions.py:2619: FutureWarning: `distplot` is a deprecated function and will be removed in a future version. Please adapt your code to use either `displot` (a figure-level function with similar flexibility) or `histplot` (an axes-level function for histograms).\n",
      "  warnings.warn(msg, FutureWarning)\n"
     ]
    },
    {
     "data": {
      "text/plain": [
       "<AxesSubplot:xlabel='MEDV', ylabel='Density'>"
      ]
     },
     "execution_count": 8,
     "metadata": {},
     "output_type": "execute_result"
    },
    {
     "data": {
      "image/png": "[encoded data removed]",
      "text/plain": [
       "<Figure size 432x288 with 1 Axes>"
      ]
     },
     "metadata": {
      "needs_background": "light"
     },
     "output_type": "display_data"
    }
   ],
   "source": [
    "#visualiation\n",
    "\n",
    "import seaborn as sns\n",
    "sns.distplot(boston.MEDV)"
   ]
  },
  {
   "cell_type": "code",
   "execution_count": 9,
   "id": "54bf86bc",
   "metadata": {},
   "outputs": [
    {
     "name": "stderr",
     "output_type": "stream",
     "text": [
      "C:\\Python310\\lib\\site-packages\\seaborn\\_decorators.py:36: FutureWarning: Pass the following variable as a keyword arg: x. From version 0.12, the only valid positional argument will be `data`, and passing other arguments without an explicit keyword will result in an error or misinterpretation.\n",
      "  warnings.warn(\n"
     ]
    },
    {
     "data": {
      "text/plain": [
       "<AxesSubplot:xlabel='MEDV'>"
      ]
     },
     "execution_count": 9,
     "metadata": {},
     "output_type": "execute_result"
    },
    {
     "data": {
      "image/png": "[encoded data removed]",
      "text/plain": [
       "<Figure size 432x288 with 1 Axes>"
      ]
     },
     "metadata": {
      "needs_background": "light"
     },
     "output_type": "display_data"
    }
   ],
   "source": [
    "sns.boxplot(boston.MEDV)"
   ]
  },
  {
   "cell_type": "code",
   "execution_count": 30,
   "id": "2ee328b7",
   "metadata": {},
   "outputs": [
    {
     "data": {
      "image/png": "[encoded data removed]",
      "text/plain": [
       "<Figure size 1440x360 with 3 Axes>"
      ]
     },
     "metadata": {
      "needs_background": "light"
     },
     "output_type": "display_data"
    }
   ],
   "source": [
    "import matplotlib.pyplot as plt\n",
    "plt.figure(figsize = (20,5))\n",
    "features = ['LSTAT','RM','PTRATIO']\n",
    "for i, col in enumerate(features):\n",
    "    plt.subplot(1, len(features) , i+1)\n",
    "    x = boston[col]\n",
    "    y = boston.MEDV\n",
    "    plt.scatter(x, y, marker='o')\n",
    "    plt.title(\"Variation in House prices\")\n",
    "    plt.xlabel(col)\n",
    "    plt.ylabel('\"House prices in $1000\"')"
   ]
  },
  {
   "cell_type": "code",
   "execution_count": null,
   "id": "ce359dcc",
   "metadata": {},
   "outputs": [],
   "source": []
  },
  {
   "cell_type": "code",
   "execution_count": 11,
   "id": "7b73942d",
   "metadata": {},
   "outputs": [],
   "source": [
    "#Splitting the dependent feature and independent feature\n",
    "X = boston.iloc[:, :-1].values\n",
    "y = boston.iloc[:, -1].values"
   ]
  },
  {
   "cell_type": "code",
   "execution_count": 39,
   "id": "8a23bcda",
   "metadata": {},
   "outputs": [],
   "source": [
    "# Split the dataset into training and testing sets\n",
    "X_train, X_test, y_train, y_test = train_test_split(X, y, test_size=0.2, random_state=42)\n",
    "\n",
    "#model = tf.keras.Sequential([\n",
    "#    tf.keras.layers.Dense(units=10, input_shape=(X_train.shape[1],), activation='relu'),\n",
    "#    tf.keras.layers.Dense(units=1)\n",
    "#])\n",
    "from keras.models import Sequential\n",
    "from keras.layers import Dense,Dropout\n",
    "model = Sequential()\n",
    "model.add(Dense(units=10, input_shape=(X_train.shape[1],), activation='relu'))\n",
    "model.add(Dense(units=1))"
   ]
  },
  {
   "cell_type": "code",
   "execution_count": 40,
   "id": "ba6d1ad4",
   "metadata": {},
   "outputs": [],
   "source": [
    "# Compile the model\n",
    "model.compile(optimizer=tf.keras.optimizers.Adam(learning_rate=0.01), loss='mean_squared_error')\n"
   ]
  },
  {
   "cell_type": "code",
   "execution_count": 41,
   "id": "8d4de2f3",
   "metadata": {
    "scrolled": true
   },
   "outputs": [
    {
     "name": "stdout",
     "output_type": "stream",
     "text": [
      "Epoch 1/100\n",
      "12/12 [==============================] - 1s 27ms/step - loss: 3534.1074 - val_loss: 1576.9579\n",
      "Epoch 2/100\n",
      "12/12 [==============================] - 0s 11ms/step - loss: 1302.1816 - val_loss: 536.0579\n",
      "Epoch 3/100\n",
      "12/12 [==============================] - 0s 10ms/step - loss: 422.3973 - val_loss: 186.8436\n",
      "Epoch 4/100\n",
      "12/12 [==============================] - 0s 7ms/step - loss: 152.6750 - val_loss: 115.1524\n",
      "Epoch 5/100\n",
      "12/12 [==============================] - 0s 10ms/step - loss: 109.4697 - val_loss: 120.1943\n",
      "Epoch 6/100\n",
      "12/12 [==============================] - 0s 8ms/step - loss: 103.1768 - val_loss: 105.7820\n",
      "Epoch 7/100\n",
      "12/12 [==============================] - 0s 8ms/step - loss: 94.2275 - val_loss: 102.7972\n",
      "Epoch 8/100\n",
      "12/12 [==============================] - 0s 7ms/step - loss: 96.2640 - val_loss: 104.0059\n",
      "Epoch 9/100\n",
      "12/12 [==============================] - 0s 10ms/step - loss: 84.3247 - val_loss: 91.3885\n",
      "Epoch 10/100\n",
      "12/12 [==============================] - 0s 9ms/step - loss: 82.3513 - val_loss: 88.4869\n",
      "Epoch 11/100\n",
      "12/12 [==============================] - 0s 9ms/step - loss: 78.2273 - val_loss: 86.6350\n",
      "Epoch 12/100\n",
      "12/12 [==============================] - 0s 8ms/step - loss: 76.5430 - val_loss: 85.9364\n",
      "Epoch 13/100\n",
      "12/12 [==============================] - 0s 8ms/step - loss: 74.0211 - val_loss: 80.0876\n",
      "Epoch 14/100\n",
      "12/12 [==============================] - 0s 8ms/step - loss: 71.6258 - val_loss: 79.2558\n",
      "Epoch 15/100\n",
      "12/12 [==============================] - 0s 9ms/step - loss: 70.8773 - val_loss: 78.7794\n",
      "Epoch 16/100\n",
      "12/12 [==============================] - 0s 9ms/step - loss: 69.4865 - val_loss: 84.6609\n",
      "Epoch 17/100\n",
      "12/12 [==============================] - 0s 9ms/step - loss: 70.2559 - val_loss: 71.3105\n",
      "Epoch 18/100\n",
      "12/12 [==============================] - 0s 11ms/step - loss: 64.7719 - val_loss: 70.3753\n",
      "Epoch 19/100\n",
      "12/12 [==============================] - 0s 9ms/step - loss: 68.1887 - val_loss: 80.1500\n",
      "Epoch 20/100\n",
      "12/12 [==============================] - 0s 9ms/step - loss: 65.7667 - val_loss: 74.8635\n",
      "Epoch 21/100\n",
      "12/12 [==============================] - 0s 13ms/step - loss: 62.7633 - val_loss: 67.2240\n",
      "Epoch 22/100\n",
      "12/12 [==============================] - 0s 9ms/step - loss: 61.8284 - val_loss: 72.3916\n",
      "Epoch 23/100\n",
      "12/12 [==============================] - 0s 11ms/step - loss: 65.8533 - val_loss: 68.6426\n",
      "Epoch 24/100\n",
      "12/12 [==============================] - 0s 10ms/step - loss: 61.8209 - val_loss: 62.4423\n",
      "Epoch 25/100\n",
      "12/12 [==============================] - 0s 9ms/step - loss: 57.7772 - val_loss: 61.7961\n",
      "Epoch 26/100\n",
      "12/12 [==============================] - 0s 10ms/step - loss: 57.7516 - val_loss: 61.0650\n",
      "Epoch 27/100\n",
      "12/12 [==============================] - 0s 12ms/step - loss: 57.1698 - val_loss: 63.8118\n",
      "Epoch 28/100\n",
      "12/12 [==============================] - 0s 8ms/step - loss: 56.8549 - val_loss: 60.6236\n",
      "Epoch 29/100\n",
      "12/12 [==============================] - 0s 10ms/step - loss: 55.1506 - val_loss: 61.7400\n",
      "Epoch 30/100\n",
      "12/12 [==============================] - 0s 8ms/step - loss: 56.4668 - val_loss: 59.2068\n",
      "Epoch 31/100\n",
      "12/12 [==============================] - 0s 9ms/step - loss: 57.3543 - val_loss: 63.3975\n",
      "Epoch 32/100\n",
      "12/12 [==============================] - 0s 9ms/step - loss: 53.1059 - val_loss: 59.2915\n",
      "Epoch 33/100\n",
      "12/12 [==============================] - 0s 9ms/step - loss: 55.2216 - val_loss: 58.2817\n",
      "Epoch 34/100\n",
      "12/12 [==============================] - 0s 9ms/step - loss: 58.6981 - val_loss: 57.5088\n",
      "Epoch 35/100\n",
      "12/12 [==============================] - 0s 10ms/step - loss: 52.3893 - val_loss: 57.3596\n",
      "Epoch 36/100\n",
      "12/12 [==============================] - 0s 9ms/step - loss: 51.9855 - val_loss: 57.4460\n",
      "Epoch 37/100\n",
      "12/12 [==============================] - 0s 9ms/step - loss: 52.2321 - val_loss: 56.5861\n",
      "Epoch 38/100\n",
      "12/12 [==============================] - 0s 8ms/step - loss: 51.1402 - val_loss: 67.5784\n",
      "Epoch 39/100\n",
      "12/12 [==============================] - 0s 8ms/step - loss: 51.3825 - val_loss: 57.8534\n",
      "Epoch 40/100\n",
      "12/12 [==============================] - 0s 10ms/step - loss: 52.6158 - val_loss: 57.7544\n",
      "Epoch 41/100\n",
      "12/12 [==============================] - 0s 10ms/step - loss: 54.6841 - val_loss: 61.3764\n",
      "Epoch 42/100\n",
      "12/12 [==============================] - 0s 8ms/step - loss: 50.4985 - val_loss: 58.8694\n",
      "Epoch 43/100\n",
      "12/12 [==============================] - 0s 9ms/step - loss: 49.2742 - val_loss: 58.2650\n",
      "Epoch 44/100\n",
      "12/12 [==============================] - 0s 9ms/step - loss: 47.5628 - val_loss: 55.5109\n",
      "Epoch 45/100\n",
      "12/12 [==============================] - 0s 8ms/step - loss: 47.6544 - val_loss: 55.6358\n",
      "Epoch 46/100\n",
      "12/12 [==============================] - 0s 8ms/step - loss: 52.5298 - val_loss: 63.3422\n",
      "Epoch 47/100\n",
      "12/12 [==============================] - 0s 9ms/step - loss: 55.1725 - val_loss: 55.2702\n",
      "Epoch 48/100\n",
      "12/12 [==============================] - 0s 8ms/step - loss: 50.2812 - val_loss: 59.4231\n",
      "Epoch 49/100\n",
      "12/12 [==============================] - 0s 7ms/step - loss: 50.3433 - val_loss: 65.8728\n",
      "Epoch 50/100\n",
      "12/12 [==============================] - 0s 8ms/step - loss: 54.5696 - val_loss: 62.0747\n",
      "Epoch 51/100\n",
      "12/12 [==============================] - 0s 10ms/step - loss: 47.1688 - val_loss: 58.4969\n",
      "Epoch 52/100\n",
      "12/12 [==============================] - 0s 8ms/step - loss: 48.4250 - val_loss: 54.7123\n",
      "Epoch 53/100\n",
      "12/12 [==============================] - 0s 10ms/step - loss: 44.9036 - val_loss: 56.1339\n",
      "Epoch 54/100\n",
      "12/12 [==============================] - 0s 7ms/step - loss: 46.7596 - val_loss: 55.4177\n",
      "Epoch 55/100\n",
      "12/12 [==============================] - 0s 9ms/step - loss: 44.7589 - val_loss: 55.6639\n",
      "Epoch 56/100\n",
      "12/12 [==============================] - 0s 8ms/step - loss: 46.8669 - val_loss: 62.8169\n",
      "Epoch 57/100\n",
      "12/12 [==============================] - 0s 8ms/step - loss: 51.0571 - val_loss: 70.9506\n",
      "Epoch 58/100\n",
      "12/12 [==============================] - 0s 8ms/step - loss: 46.8397 - val_loss: 72.2808\n",
      "Epoch 59/100\n",
      "12/12 [==============================] - 0s 9ms/step - loss: 46.1778 - val_loss: 55.0177\n",
      "Epoch 60/100\n",
      "12/12 [==============================] - 0s 9ms/step - loss: 45.2363 - val_loss: 54.8359\n",
      "Epoch 61/100\n",
      "12/12 [==============================] - 0s 8ms/step - loss: 42.9880 - val_loss: 55.0196\n",
      "Epoch 62/100\n",
      "12/12 [==============================] - 0s 9ms/step - loss: 42.4614 - val_loss: 54.7924\n",
      "Epoch 63/100\n",
      "12/12 [==============================] - 0s 9ms/step - loss: 43.3419 - val_loss: 60.3371\n",
      "Epoch 64/100\n",
      "12/12 [==============================] - 0s 9ms/step - loss: 44.1838 - val_loss: 59.9468\n",
      "Epoch 65/100\n",
      "12/12 [==============================] - 0s 9ms/step - loss: 41.6078 - val_loss: 55.9672\n",
      "Epoch 66/100\n",
      "12/12 [==============================] - 0s 9ms/step - loss: 42.5572 - val_loss: 55.7713\n",
      "Epoch 67/100\n",
      "12/12 [==============================] - 0s 10ms/step - loss: 41.3643 - val_loss: 56.4972\n",
      "Epoch 68/100\n",
      "12/12 [==============================] - 0s 10ms/step - loss: 41.5229 - val_loss: 54.6509\n",
      "Epoch 69/100\n",
      "12/12 [==============================] - 0s 11ms/step - loss: 41.7502 - val_loss: 59.0983\n",
      "Epoch 70/100\n",
      "12/12 [==============================] - 0s 10ms/step - loss: 44.7749 - val_loss: 54.3260\n",
      "Epoch 71/100\n",
      "12/12 [==============================] - 0s 11ms/step - loss: 42.7489 - val_loss: 61.4588\n",
      "Epoch 72/100\n",
      "12/12 [==============================] - 0s 8ms/step - loss: 42.0793 - val_loss: 55.3877\n",
      "Epoch 73/100\n",
      "12/12 [==============================] - 0s 8ms/step - loss: 43.5494 - val_loss: 65.8417\n",
      "Epoch 74/100\n",
      "12/12 [==============================] - 0s 8ms/step - loss: 42.6754 - val_loss: 57.7841\n",
      "Epoch 75/100\n",
      "12/12 [==============================] - 0s 9ms/step - loss: 45.1223 - val_loss: 54.6079\n",
      "Epoch 76/100\n",
      "12/12 [==============================] - 0s 8ms/step - loss: 41.9788 - val_loss: 61.7459\n",
      "Epoch 77/100\n",
      "12/12 [==============================] - 0s 8ms/step - loss: 43.4962 - val_loss: 67.6657\n",
      "Epoch 78/100\n",
      "12/12 [==============================] - 0s 8ms/step - loss: 43.1197 - val_loss: 53.9134\n",
      "Epoch 79/100\n",
      "12/12 [==============================] - 0s 8ms/step - loss: 41.5427 - val_loss: 63.1531\n",
      "Epoch 80/100\n",
      "12/12 [==============================] - 0s 10ms/step - loss: 46.7708 - val_loss: 55.5665\n",
      "Epoch 81/100\n"
     ]
    },
    {
     "name": "stdout",
     "output_type": "stream",
     "text": [
      "12/12 [==============================] - 0s 9ms/step - loss: 39.0358 - val_loss: 54.0596\n",
      "Epoch 82/100\n",
      "12/12 [==============================] - 0s 8ms/step - loss: 39.0201 - val_loss: 53.5825\n",
      "Epoch 83/100\n",
      "12/12 [==============================] - 0s 7ms/step - loss: 40.3085 - val_loss: 54.2741\n",
      "Epoch 84/100\n",
      "12/12 [==============================] - 0s 10ms/step - loss: 43.1471 - val_loss: 59.2769\n",
      "Epoch 85/100\n",
      "12/12 [==============================] - 0s 9ms/step - loss: 44.2301 - val_loss: 53.7239\n",
      "Epoch 86/100\n",
      "12/12 [==============================] - 0s 9ms/step - loss: 42.7554 - val_loss: 55.1563\n",
      "Epoch 87/100\n",
      "12/12 [==============================] - 0s 8ms/step - loss: 44.8067 - val_loss: 74.4522\n",
      "Epoch 88/100\n",
      "12/12 [==============================] - 0s 8ms/step - loss: 41.5848 - val_loss: 54.5100\n",
      "Epoch 89/100\n",
      "12/12 [==============================] - 0s 10ms/step - loss: 39.7953 - val_loss: 55.3533\n",
      "Epoch 90/100\n",
      "12/12 [==============================] - 0s 8ms/step - loss: 39.0025 - val_loss: 54.9055\n",
      "Epoch 91/100\n",
      "12/12 [==============================] - 0s 9ms/step - loss: 43.5470 - val_loss: 54.9317\n",
      "Epoch 92/100\n",
      "12/12 [==============================] - 0s 9ms/step - loss: 40.9117 - val_loss: 56.2171\n",
      "Epoch 93/100\n",
      "12/12 [==============================] - 0s 9ms/step - loss: 41.4647 - val_loss: 57.0151\n",
      "Epoch 94/100\n",
      "12/12 [==============================] - 0s 10ms/step - loss: 39.9459 - val_loss: 53.3565\n",
      "Epoch 95/100\n",
      "12/12 [==============================] - 0s 9ms/step - loss: 36.5232 - val_loss: 52.6220\n",
      "Epoch 96/100\n",
      "12/12 [==============================] - 0s 9ms/step - loss: 38.1369 - val_loss: 52.2030\n",
      "Epoch 97/100\n",
      "12/12 [==============================] - 0s 8ms/step - loss: 36.0414 - val_loss: 56.5529\n",
      "Epoch 98/100\n",
      "12/12 [==============================] - 0s 8ms/step - loss: 38.2942 - val_loss: 53.5198\n",
      "Epoch 99/100\n",
      "12/12 [==============================] - 0s 9ms/step - loss: 41.7188 - val_loss: 75.6160\n",
      "Epoch 100/100\n",
      "12/12 [==============================] - 0s 8ms/step - loss: 42.8142 - val_loss: 57.2050\n"
     ]
    }
   ],
   "source": [
    "# Train the model\n",
    "#history = model.fit(X_train, y_train, epochs=100, batch_size=32, validation_data=(X_test, y_test))\n",
    "history = model.fit(X_train, y_train, epochs=100,validation_split=0.1)\n"
   ]
  },
  {
   "cell_type": "code",
   "execution_count": 42,
   "id": "d35ba883",
   "metadata": {},
   "outputs": [
    {
     "name": "stdout",
     "output_type": "stream",
     "text": [
      "Test Mean Squared Error: 39.222\n"
     ]
    }
   ],
   "source": [
    "# Evaluate the performance of the model on the test data\n",
    "mse = model.evaluate(X_test, y_test, verbose=0)\n",
    "print(f'Test Mean Squared Error: {mse:0.3f}')"
   ]
  },
  {
   "cell_type": "code",
   "execution_count": 43,
   "id": "15b24b8e",
   "metadata": {},
   "outputs": [
    {
     "name": "stdout",
     "output_type": "stream",
     "text": [
      "4/4 [==============================] - 0s 5ms/step\n"
     ]
    }
   ],
   "source": [
    "y_pred = model.predict(X_test)"
   ]
  },
  {
   "cell_type": "code",
   "execution_count": 44,
   "id": "a6d416a7",
   "metadata": {
    "scrolled": true
   },
   "outputs": [
    {
     "name": "stdout",
     "output_type": "stream",
     "text": [
      "0.4651533491482206\n"
     ]
    }
   ],
   "source": [
    "from sklearn.metrics import r2_score\n",
    "r2 = r2_score(y_test, y_pred)\n",
    "print(r2)"
   ]
  },
  {
   "cell_type": "code",
   "execution_count": 45,
   "id": "fa1cc152",
   "metadata": {},
   "outputs": [
    {
     "name": "stdout",
     "output_type": "stream",
     "text": [
      "6.262773213009502\n"
     ]
    }
   ],
   "source": [
    "# Predicting RMSE the Test set results\n",
    "from sklearn.metrics import mean_squared_error\n",
    "rmse = (np.sqrt(mean_squared_error(y_test, y_pred)))\n",
    "print(rmse)"
   ]
  },
  {
   "cell_type": "code",
   "execution_count": null,
   "id": "1e91906a",
   "metadata": {},
   "outputs": [],
   "source": []
  }
 ],
 "metadata": {
  "kernelspec": {
   "display_name": "Python 3 (ipykernel)",
   "language": "python",
   "name": "python3"
  },
  "language_info": {
   "codemirror_mode": {
    "name": "ipython",
    "version": 3
   },
   "file_extension": ".py",
   "mimetype": "text/x-python",
   "name": "python",
   "nbconvert_exporter": "python",
   "pygments_lexer": "ipython3",
   "version": "3.10.3"
  },
  "varInspector": {
   "cols": {
    "lenName": 16,
    "lenType": 16,
    "lenVar": 40
   },
   "kernels_config": {
    "python": {
     "delete_cmd_postfix": "",
     "delete_cmd_prefix": "del ",
     "library": "var_list.py",
     "varRefreshCmd": "print(var_dic_list())"
    },
    "r": {
     "delete_cmd_postfix": ") ",
     "delete_cmd_prefix": "rm(",
     "library": "var_list.r",
     "varRefreshCmd": "cat(var_dic_list()) "
    }
   },
   "types_to_exclude": [
    "module",
    "function",
    "builtin_function_or_method",
    "instance",
    "_Feature"
   ],
   "window_display": false
  }
 },
 "nbformat": 4,
 "nbformat_minor": 5
}
